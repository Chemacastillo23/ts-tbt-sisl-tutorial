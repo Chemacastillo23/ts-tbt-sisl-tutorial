{
 "cells": [
  {
   "cell_type": "code",
   "execution_count": null,
   "metadata": {},
   "outputs": [],
   "source": [
    "from __future__ import print_function\n",
    "import sisl\n",
    "import numpy as np\n",
    "import matplotlib.pyplot as plt\n",
    "%matplotlib inline"
   ]
  },
  {
   "cell_type": "markdown",
   "metadata": {},
   "source": [
    "In this example you should create a square lattice with 4 (or 6) electrodes in a Hall-bar like configuration.\n",
    "\n",
    "Simply create the device and only add the magnetic file (see [example 07](../07/run.ipynb)) once you have finalized the calculation of the transport in the 4(6) terminal device.\n",
    "\n",
    "Here is the square lattice that you can use as a precursor for the full structure:"
   ]
  },
  {
   "cell_type": "code",
   "execution_count": null,
   "metadata": {},
   "outputs": [],
   "source": [
    "sq = sisl.Geometry([.5] * 3, sisl.Atom(1, R=1.), sc=sisl.SuperCell([1., 1., 10.], nsc=[3, 3, 1]))"
   ]
  }
 ],
 "metadata": {
  "kernelspec": {
   "display_name": "Python 2",
   "language": "python",
   "name": "python2"
  },
  "language_info": {
   "codemirror_mode": {
    "name": "ipython",
    "version": 2
   },
   "file_extension": ".py",
   "mimetype": "text/x-python",
   "name": "python",
   "nbconvert_exporter": "python",
   "pygments_lexer": "ipython2",
   "version": "2.7.14"
  }
 },
 "nbformat": 4,
 "nbformat_minor": 2
}
