{
 "cells": [
  {
   "cell_type": "code",
   "execution_count": 24,
   "metadata": {},
   "outputs": [],
   "source": [
    "from __future__ import print_function\n",
    "import sisl\n",
    "import numpy as np\n",
    "import matplotlib.pyplot as plt\n",
    "%matplotlib inline"
   ]
  },
  {
   "cell_type": "markdown",
   "metadata": {},
   "source": [
    "Perform a 4-terminal calculation with 2 crossed Carbon chains.  \n",
    "Running a two-terminal calculation with TranSiesta is a breeze compared to running 4-electrode calculations. When performing $N>2$-electrode calculations an endless combination of different applied bias settings become apparent. More so than for 2 electrode systems.  \n",
    "This will be reflected in an even more verbose input for TranSiesta to describe all the 4 electrodes.\n",
    "\n",
    "First we will create the calculation geometries."
   ]
  },
  {
   "cell_type": "code",
   "execution_count": 25,
   "metadata": {},
   "outputs": [],
   "source": [
    "chain = sisl.Geometry([[0,0,0]], atom=sisl.Atom[6], sc=[1.4, 1.4, 15])\n",
    "elec_x = chain.tile(4, axis=0)\n",
    "elec_x.add_vacuum(15 - 1.4, 1).write('ELEC_X.fdf')\n",
    "elec_y = chain.tile(4, axis=1)\n",
    "elec_y.add_vacuum(15 - 1.4, 0).write('ELEC_Y.fdf')\n",
    "chain_x = elec_x.tile(4, axis=0)\n",
    "chain_y = elec_y.tile(4, axis=1)\n",
    "chain_x = chain_x.translate(-chain_x.center(what='cell'))\n",
    "chain_y = chain_y.translate(-chain_y.center(what='cell'))"
   ]
  },
  {
   "cell_type": "code",
   "execution_count": 27,
   "metadata": {},
   "outputs": [],
   "source": [
    "device = chain_x.append(chain_y.translate([0, 0, -chain.cell[2, 2] + 2.1]), 2)\n",
    "# Correct the y-direction vacuum\n",
    "device = device.add_vacuum(chain_y.cell[1, 1] - chain_x.cell[1,1], 1)\n",
    "device = device.translate(device.center(what='cell') + [.7] * 3)\n",
    "device.write('DEVICE.fdf')\n",
    "device.write('DEVICE.xyz')"
   ]
  }
 ],
 "metadata": {
  "kernelspec": {
   "display_name": "Python 2",
   "language": "python",
   "name": "python2"
  },
  "language_info": {
   "codemirror_mode": {
    "name": "ipython",
    "version": 2
   },
   "file_extension": ".py",
   "mimetype": "text/x-python",
   "name": "python",
   "nbconvert_exporter": "python",
   "pygments_lexer": "ipython2",
   "version": "2.7.14"
  }
 },
 "nbformat": 4,
 "nbformat_minor": 2
}
