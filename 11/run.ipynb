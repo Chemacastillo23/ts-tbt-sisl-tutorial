{
 "cells": [
  {
   "cell_type": "code",
   "execution_count": null,
   "metadata": {},
   "outputs": [],
   "source": [
    "from __future__ import print_function\n",
    "import sisl\n",
    "import numpy as np\n",
    "import matplotlib.pyplot as plt\n",
    "%matplotlib inline"
   ]
  },
  {
   "cell_type": "markdown",
   "metadata": {},
   "source": [
    "Perform a 4-terminal calculation with 2 crossed Carbon chains.  \n",
    "Running a two-terminal calculation with TranSiesta is a breeze compared to running $N>2$-electrode calculations. When performing $N>2$-electrode calculations an endless combination of different applied bias settings become apparent.  \n",
    "This will be reflected in an even more verbose input for TranSiesta to describe all the 4 electrodes, contours, chemical potentials etc.\n",
    "\n",
    "This example will primarily create the geometries, and then you should perform data analysis."
   ]
  },
  {
   "cell_type": "code",
   "execution_count": null,
   "metadata": {},
   "outputs": [],
   "source": [
    "chain = sisl.Geometry([[0,0,0]], atom=sisl.Atom[6], sc=[1.4, 1.4, 15])\n",
    "elec_x = chain.tile(4, axis=0)\n",
    "elec_x.add_vacuum(15 - 1.4, 1).write('ELEC_X.fdf')\n",
    "elec_y = chain.tile(4, axis=1)\n",
    "elec_y.add_vacuum(15 - 1.4, 0).write('ELEC_Y.fdf')\n",
    "chain_x = elec_x.tile(4, axis=0)\n",
    "chain_y = elec_y.tile(4, axis=1)\n",
    "chain_x = chain_x.translate(-chain_x.center(what='cell'))\n",
    "chain_y = chain_y.translate(-chain_y.center(what='cell'))"
   ]
  },
  {
   "cell_type": "code",
   "execution_count": null,
   "metadata": {},
   "outputs": [],
   "source": [
    "device = chain_x.append(chain_y.translate([0, 0, -chain.cell[2, 2] + 2.1]), 2)\n",
    "# Correct the y-direction vacuum\n",
    "device = device.add_vacuum(chain_y.cell[1, 1] - chain_x.cell[1,1], 1)\n",
    "device = device.translate(device.center(what='cell') + [.7] * 3)\n",
    "device.write('DEVICE.fdf')\n",
    "device.write('DEVICE.xyz')"
   ]
  },
  {
   "cell_type": "markdown",
   "metadata": {},
   "source": [
    "## Exercises\n",
    "\n",
    "- Try and extract similar data as done in [example 6](../06/run.ipynb). At least plot one of the DOS quantities\n",
    "- Extend your DOS plot to be *orbitally resolved* by extracting only subsets of DOS, in this regard also play with the `norm` keyword, try and plot the DOS per $s$, sum of $p$, etc. for the orbitals on the Carbon atoms.\n",
    "\n",
    "  - A file named `siesta.ORB_INDX` have been created by Siesta which contains the orbital information per atom, this should give you access to the indices for extraction."
   ]
  },
  {
   "cell_type": "code",
   "execution_count": null,
   "metadata": {},
   "outputs": [],
   "source": [
    "tbt = sisl.get_sile('siesta.TBT.nc')"
   ]
  },
  {
   "cell_type": "code",
   "execution_count": null,
   "metadata": {},
   "outputs": [],
   "source": []
  },
  {
   "cell_type": "markdown",
   "metadata": {},
   "source": [
    "- Plot bond (vector) currents, below is a skeleton code to do this, look in the `sisl` manual for extraction of *vector current*"
   ]
  },
  {
   "cell_type": "code",
   "execution_count": null,
   "metadata": {},
   "outputs": [],
   "source": [
    "xy = tbt.geometry.xyz[:, :]\n",
    "J = # fill in the corresponding code here ()\n",
    "plt.quiver(xy[:, 0], xy[:, 1], J12[:, 0], J12[:, 1]);"
   ]
  },
  {
   "cell_type": "code",
   "execution_count": null,
   "metadata": {},
   "outputs": [],
   "source": []
  }
 ],
 "metadata": {
  "kernelspec": {
   "display_name": "Python 2",
   "language": "python",
   "name": "python2"
  },
  "language_info": {
   "codemirror_mode": {
    "name": "ipython",
    "version": 2
   },
   "file_extension": ".py",
   "mimetype": "text/x-python",
   "name": "python",
   "nbconvert_exporter": "python",
   "pygments_lexer": "ipython2",
   "version": "2.7.14"
  }
 },
 "nbformat": 4,
 "nbformat_minor": 2
}
