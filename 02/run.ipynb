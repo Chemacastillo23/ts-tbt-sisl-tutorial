{
 "cells": [
  {
   "cell_type": "code",
   "execution_count": null,
   "metadata": {
    "collapsed": true
   },
   "outputs": [],
   "source": [
    "from __future__ import print_function\n",
    "from sisl import *\n",
    "import os.path as osp\n",
    "import numpy as np\n",
    "import matplotlib.pyplot as plt\n",
    "%matplotlib inline"
   ]
  },
  {
   "cell_type": "markdown",
   "metadata": {},
   "source": [
    "This example will setup the required electronic structures for usage in TBtrans.  \n",
    "We will continue with the graphene nearest neighbour tight-binding model and perform simple transport calculations using TBtrans.  \n",
    "Again we require the graphene unit-cell and the construction of the Hamiltonian object:"
   ]
  },
  {
   "cell_type": "code",
   "execution_count": null,
   "metadata": {
    "collapsed": true
   },
   "outputs": [],
   "source": [
    "graphene = geom.graphene(orthogonal=True)\n",
    "H = Hamiltonian(graphene)\n",
    "H.construct([[0.1, 1.43], [0., -2.7]])"
   ]
  },
  {
   "cell_type": "markdown",
   "metadata": {},
   "source": [
    "Note that the above call of the graphene lattice is different from example 01. In this example we will create an *orthogonal* graphene lattice, i.e. the lattice vectors are orthogonal to each other, unlike the minimal graphene lattice.  \n",
    "The minimal orthogonal graphene lattice consists of 4 Carbon atoms.\n",
    "\n",
    "Assert that we have 16 non zero elements:"
   ]
  },
  {
   "cell_type": "code",
   "execution_count": null,
   "metadata": {
    "collapsed": true
   },
   "outputs": [],
   "source": [
    "print(H)"
   ]
  },
  {
   "cell_type": "markdown",
   "metadata": {},
   "source": [
    "The Hamiltonian we have thus far created will be our *electrode*. Lets write it to a TBtrans readable file:"
   ]
  },
  {
   "cell_type": "code",
   "execution_count": null,
   "metadata": {
    "collapsed": true
   },
   "outputs": [],
   "source": [
    "H.write('ELEC.nc')"
   ]
  },
  {
   "cell_type": "markdown",
   "metadata": {},
   "source": [
    "Now a file `ELEC.nc` file exists in the folder and it contains all the information (and more) that TBtrans requires to construct the self-energies for the electrode.\n",
    "\n",
    "All that is required is now the device region.  \n",
    "An important aspect of ***any*** transport setup is that the electrodes *must* **not** have matrix elements crossing the device region. I.e. there must not be matrix elements between any of the electrodes. This restriction is easily accommodated in tight-binding setups, but for DFT systems it is less transparent.  \n",
    "In this tight-binding setup it simlpy means a repetition of the electrode 3 times; 1) left electrode, 2) scattering region, 3) right electrode.  "
   ]
  },
  {
   "cell_type": "markdown",
   "metadata": {},
   "source": [
    "### 1. Creating the device, `Geometry`; `Hamiltonian`; `Hamiltonian.construct`"
   ]
  },
  {
   "cell_type": "markdown",
   "metadata": {},
   "source": [
    "Here we tile the orthogonal graphene lattice 3 times along the second lattice vector (Python is 0-based) and subsequently construct it using the same parameters.  \n",
    "This method of specifying all matrix elements is the most usable and easy scheme that is available in `sisl`."
   ]
  },
  {
   "cell_type": "code",
   "execution_count": null,
   "metadata": {
    "collapsed": true
   },
   "outputs": [],
   "source": [
    "device = graphene.tile(3, axis=1)\n",
    "H_device = Hamiltonian(device)\n",
    "H_device.construct([[0.1, 1.43], [0, -2.7]])\n",
    "print(H_device)"
   ]
  },
  {
   "cell_type": "markdown",
   "metadata": {},
   "source": [
    "### 2. Creating the device, `Hamiltonian` $\\to$ `Hamiltonian`"
   ]
  },
  {
   "cell_type": "markdown",
   "metadata": {},
   "source": [
    "The `Geometry.tile` function is an explicit method to create bigger lattices from a smaller reference latice. Howewer, the `tile` routine is also available to the `Hamiltonian` object. Not only is it much easier to use, it also presents these advantages:\n",
    "\n",
    "* It guarentees that the matrix elements are the same as the reference `Hamiltonian`, i.e. you need not specify the parameters to `construct` twice,\n",
    "* It is *much* faster when creating $>500,000$ samples from smaller reference systems,\n",
    "* It also requires less code which increases readability and is less prone to errors."
   ]
  },
  {
   "cell_type": "code",
   "execution_count": null,
   "metadata": {
    "collapsed": true
   },
   "outputs": [],
   "source": [
    "H_device = H.tile(3, axis=1)\n",
    "print(H_device)"
   ]
  },
  {
   "cell_type": "markdown",
   "metadata": {},
   "source": [
    "For more information you may execute the following lines to view the :\n",
    "\n",
    "    help(Geometry.tile)\n",
    "    help(Hamiltonian.tile)\n",
    "\n",
    "\n",
    "Now we have created the device electronic structure. The final step is to store it in a TBtrans readable format:"
   ]
  },
  {
   "cell_type": "code",
   "execution_count": null,
   "metadata": {
    "collapsed": true
   },
   "outputs": [],
   "source": [
    "H_device.write('DEVICE.nc')"
   ]
  },
  {
   "cell_type": "markdown",
   "metadata": {},
   "source": [
    "Sometimes it may be convenient to plot the entries of the matrix to assert the symmetry and structure. The second line asserts that it is indeed a Hermitian matrix:"
   ]
  },
  {
   "cell_type": "code",
   "execution_count": null,
   "metadata": {
    "collapsed": true
   },
   "outputs": [],
   "source": [
    "plt.spy(H_device.Hk());\n",
    "print('Hermitian deviation: ',np.amax(np.abs(H.Hk() - H.Hk().T.conj())))"
   ]
  },
  {
   "cell_type": "markdown",
   "metadata": {},
   "source": [
    "Now run tbtrans:\n",
    "\n",
    "    tbtrans RUN.fdf"
   ]
  },
  {
   "cell_type": "code",
   "execution_count": null,
   "metadata": {
    "collapsed": true
   },
   "outputs": [],
   "source": [
    "if not osp.isfile('siesta.TBT.nc'):\n",
    "    print(\"STOP AND WAIT\")"
   ]
  },
  {
   "cell_type": "markdown",
   "metadata": {},
   "source": [
    "After calculating the transport properties of the transport problem you may also use `sisl` to interact with the TBtrans output (in the `*.TBT.nc` file):"
   ]
  },
  {
   "cell_type": "code",
   "execution_count": null,
   "metadata": {
    "collapsed": true
   },
   "outputs": [],
   "source": [
    "tbt = get_sile('siesta.TBT.nc')\n",
    "plt.plot(tbt.E, tbt.transmission(), label='k-averaged');\n",
    "plt.plot(tbt.E, tbt.transmission(kavg=tbt.kindex([0, 0, 0])), label=r'$\\Gamma$'); \n",
    "plt.xlabel('Energy [eV]'); plt.ylabel('Transmission'); plt.ylim([0, None]); plt.legend();"
   ]
  },
  {
   "cell_type": "markdown",
   "metadata": {},
   "source": [
    "There are several function calls present in the above code:\n",
    "\n",
    "* `get_sile`  \n",
    "is a `sisl` function to read and parse *any* file that is enabled through `sisl`. You can check the documentation to find the available files. Here we use it to make `tbt` be an object with all the information that is present in the `siesta.TBT.nc` file.\n",
    "* `tbt.transmission`  \n",
    "is a function that retrieves the transmission function from the file. It has three optional arguments, the first two being the origin electrode and the second the absorbing electrode. They are defaulting to the first and second electrode.\n",
    "* `tbt.transmission`  \n",
    "takes a third and optional argument, if `True`, or not specified, it returns the **k** averaged transmission, else one may provide an array of integers that represent the internal k-points. I.e. the code above searches for the **k**-index of the $\\Gamma$ point, and requests only that sampled transmission function."
   ]
  },
  {
   "cell_type": "markdown",
   "metadata": {},
   "source": [
    "You will see a *very* crude step-like transmission function.  \n",
    "Why is it not smooth, V-shaped (as it should be)? Can you change something to obtain a smooth transmission function?  \n",
    "Why is the $\\Gamma$ transmission a fixed non zero value? Should it be zero somewhere?\n",
    "*HINT: checkout the energies used for evaluating the transmission function*."
   ]
  },
  {
   "cell_type": "markdown",
   "metadata": {},
   "source": [
    "The `siesta.TBT.nc` file also contains two different density-of-states segments. How do they differ?"
   ]
  },
  {
   "cell_type": "code",
   "execution_count": null,
   "metadata": {
    "collapsed": true
   },
   "outputs": [],
   "source": [
    "plt.plot(tbt.E, tbt.DOS(), label='DOS'); \n",
    "plt.plot(tbt.E, tbt.ADOS(), label='ADOS'); \n",
    "plt.xlabel('Energy [eV]'); plt.ylabel('DOS [1/eV]'); plt.ylim([0, None]); plt.legend();"
   ]
  },
  {
   "cell_type": "markdown",
   "metadata": {},
   "source": [
    "`sisl` is capable of interacting *much* more with TBtrans output in many various ways. We will return to this in later examples.\n",
    "\n",
    "If you want to exercise your skills in `sisl`'ling you can try and extract the Green function DOS as a single number at `E=-0.5` projected onto the first device atom (note, Python is 0-based indexing, i.e. the atomic index starts from 0)."
   ]
  }
 ],
 "metadata": {
  "kernelspec": {
   "display_name": "Python 2",
   "language": "python",
   "name": "python2"
  },
  "language_info": {
   "codemirror_mode": {
    "name": "ipython",
    "version": 2
   },
   "file_extension": ".py",
   "mimetype": "text/x-python",
   "name": "python",
   "nbconvert_exporter": "python",
   "pygments_lexer": "ipython2",
   "version": "2.7.13"
  }
 },
 "nbformat": 4,
 "nbformat_minor": 2
}
