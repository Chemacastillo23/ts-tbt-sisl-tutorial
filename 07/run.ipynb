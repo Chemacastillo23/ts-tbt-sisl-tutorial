{
 "cells": [
  {
   "cell_type": "code",
   "execution_count": 1,
   "metadata": {},
   "outputs": [],
   "source": [
    "from __future__ import print_function\n",
    "import math\n",
    "import sisl\n",
    "import numpy as np\n",
    "import matplotlib.pyplot as plt\n",
    "from functools import partial\n",
    "%matplotlib inline"
   ]
  },
  {
   "cell_type": "markdown",
   "metadata": {},
   "source": [
    "One of the key ideas behind `sisl` was the interaction of a DFT Hamiltonian and the user.  \n",
    "In this example we will highlight a unique implementation in TBtrans which enables ***any*** kind of user intervention.\n",
    "\n",
    "The idea is a transformation of the Green function calculation from:\n",
    "\\begin{equation}\n",
    "   \\mathbf G^{-1}(E) = \\mathbf S (E + i\\eta) - \\mathbf H - \\sum_i\\boldsymbol\\Sigma_i\n",
    "\\end{equation}\n",
    "to\n",
    "\\begin{equation}\n",
    "   \\mathbf G^{-1}(E) = \\mathbf S (E + i\\eta) - \\mathbf H - \\delta\\mathbf H - \\sum_i\\boldsymbol\\Sigma_i - \\delta\\boldsymbol \\Sigma\n",
    "\\end{equation}\n",
    "where $\\delta\\mathbf H$ and $\\delta\\boldsymbol\\Sigma$ can be of any type, i.e. complex and/or real.  \n",
    "The only (important!) difference between $\\delta\\mathbf H$ and $\\delta\\boldsymbol \\Sigma$ is that the former enters the calculation of bond-currents, while the latter does not.\n",
    "\n",
    "Since TBtrans by it-self does not allow complex Hamiltonians the above is a way to leviate this restriction. One feature this may be used for is by applying magnetic fields.\n",
    "\n",
    "In the following we will use Peierls substitution on a square tight-binding model:\n",
    "\\begin{equation}\n",
    "   \\mathbf H(\\Phi) = \\mathbf H(0)e^{i \\Phi \\delta x^- \\cdot \\delta y^+ / 2},\n",
    "\\end{equation}\n",
    "where $\\Phi$ is the magnetic flux (in proper units), $\\delta x^- = x_j - x_i$ and $\\delta y^+=y_j + y_i$, with $i$ and $j$ being atomic indices. If you are interested in this substitution, please search litterature.\n",
    "\n",
    "---\n",
    "\n",
    "First create a square lattice and define the on-site and nearest neighbour couplings"
   ]
  },
  {
   "cell_type": "code",
   "execution_count": 2,
   "metadata": {},
   "outputs": [],
   "source": [
    "square = sisl.Geometry([0,0,0], sisl.Atom(1, R=1.0), sc=sisl.SuperCell(1, nsc=[3, 3, 1]))\n",
    "on, nn = 4, -1"
   ]
  },
  {
   "cell_type": "code",
   "execution_count": 3,
   "metadata": {},
   "outputs": [],
   "source": [
    "H_minimal = sisl.Hamiltonian(square)\n",
    "H_minimal.construct([[0.1, 1.1], [on, nn]])\n",
    "H_elec = H_minimal.tile(100, 1).tile(2, 0)\n",
    "H_elec.set_nsc([3, 1, 1])\n",
    "H_elec.write('ELEC.nc')"
   ]
  },
  {
   "cell_type": "code",
   "execution_count": 4,
   "metadata": {},
   "outputs": [
    {
     "name": "stdout",
     "output_type": "stream",
     "text": [
      "4178-4229\n"
     ]
    }
   ],
   "source": [
    "H = H_elec.tile(50, 0)\n",
    "\n",
    "# Make a constriction\n",
    "geom = H.geom.translate( -H.geom.center(what='xyz') )\n",
    "# This constriction is based on an example in the kwant project (called qhe). We however make a slight modification.\n",
    "# Remove some atoms, this will create a constriction of 100 - 40 * 2 = 20 Ang with a Gaussian edge profile\n",
    "remove = (np.abs(geom.xyz[:, 1]) > 50 - 37.5 * np.exp( -(geom.xyz[:, 0] / 12) **2 )).nonzero()[0]\n",
    "# To reduce computations we find the atoms in the constriction such that we can \n",
    "# limit the calculation region.\n",
    "device = (np.abs(geom.remove(remove).xyz[:, 0]) < .6).nonzero()[0]\n",
    "geom.remove(remove).write('test.xyz')\n",
    "\n",
    "# Pretty print a range of atoms that is the smallest device region\n",
    "print(sisl.utils.list2str(device))\n",
    "\n",
    "H = H.remove(remove)\n",
    "H.write('DEVICE.nc')"
   ]
  },
  {
   "cell_type": "markdown",
   "metadata": {},
   "source": [
    "The above printed list of atoms should be inserted in the `RUN.fdf` in the `TBT.Atoms.Device`. This is important when one is *only* interested in the transmission, and does not care about the density of states. You are always encouraged to select the minimal device region to 1) speed up computations and 2) drastically reduce memory requirements.  \n",
    "In this regard you should read in the TBtrans manual about the additional flag `TBT.Atoms.Device.Connect` (you may try, as an additional exercise to set this flag to true and check the difference from the previous calculation).\n",
    "\n",
    "Now we have $\\mathbf H(0)$ with *no* phases due to magnetic fields. As the magnetic field is changing the Hamiltonian, and thus enters the bond-current calculations, we have to use the $\\delta\\mathbf H$ term (and *not* $\\delta\\boldsymbol\\Sigma$).\n",
    "\n",
    "The first thing we need to calculate is $\\delta x^- \\cdot\\delta y^+$.\n",
    "Since we already have the Hamiltonian we can utilize the connections by looping the coupling elements (in a sparse matrix/graph this is called *edges*). This is *much* cheaper than trying to figure out which atoms are neighbouring."
   ]
  },
  {
   "cell_type": "code",
   "execution_count": 5,
   "metadata": {},
   "outputs": [],
   "source": [
    "device = H.geom\n",
    "xy = sisl.Hamiltonian(device)\n",
    "for ia in device:\n",
    "    # Get all connecting elements (edges discards connections to it-self)\n",
    "    edges = H.edges(ia)\n",
    "    # Calculate the vector between edges and ia:\n",
    "    #    xyz[edges, :] - xyz[ia, :]\n",
    "    Rij = device.Rij(ia, edges)\n",
    "    # Now calculate the product:\n",
    "    #    (xj - xi) * (yj + yi)\n",
    "    # Notice that we correct to +yi by adding it twice\n",
    "    xy[ia, edges] = Rij[:, 0] * (Rij[:, 1] + 2 * device.xyz[ia, 1])\n",
    "xy.finalize() # this is only because it will speed up the following calculations"
   ]
  },
  {
   "cell_type": "markdown",
   "metadata": {},
   "source": [
    "Now we have the coupling dependent phase factor, $\\delta x^-\\cdot\\delta y^+$, and all we need to calculate is $\\delta\\mathbf H$ that transforms $\\mathbf H(0) \\to \\mathbf H(\\Phi)$.  \n",
    "This is done easily as a `Hamiltonian` allows basic element wise operations, i.e. `+`, `-`, `*`, `/` and `**` (the power function).  \n",
    "Your task is to insert the correct mathematical equation below, such that `dH` contains $\\delta \\mathbf H$ for $\\mathbf H(\\Phi) = \\mathbf H(0) + \\delta\\mathbf H$.\n",
    "To help you I have inserted the exponential function. To finalize the equation, you need three terms: `nn`, `xy` and `rec_phi`."
   ]
  },
  {
   "cell_type": "code",
   "execution_count": 6,
   "metadata": {},
   "outputs": [
    {
     "name": "stdout",
     "output_type": "stream",
     "text": [
      "Calulating (of 13): 1, 2, 3, 4, 5, 6, 7, 8, 9, 10, 11, 12, 13,"
     ]
    }
   ],
   "source": [
    "rec_phis = np.arange(1, 51, 4)\n",
    "print('Calulating (of {}):'.format(len(rec_phis)), end='')\n",
    "for i, rec_phi in enumerate(rec_phis):\n",
    "    print(' {}'.format(i+1), end=',')\n",
    "    # Calculate H(Phi)\n",
    "    #dH = ... math.e ** (0.5j ...) ...\n",
    "    dH = nn * (math.e ** (0.5j * xy / rec_phi) - 1)\n",
    "\n",
    "    with sisl.get_sile('M_{}.dH.nc'.format(rec_phi), mode='w') as fh:\n",
    "        fh.write_delta(dH)"
   ]
  },
  {
   "cell_type": "markdown",
   "metadata": {},
   "source": [
    "## Exercises\n",
    "\n",
    "- Calculate all physical quantities for all different applied magnetic fields.  \n",
    "   Before running the calculations, search the manual on how to save the self-energies (*HINT* out-of-core). By default, TBtrans calculates the self-energies as they are needed. However, if one has the same electrodes, same $k$-grid and same $E$-points for several different runs (as in this case) one can with benefit calculate the self-energies *once*, and then reuse them in subsequent calculations.\n",
    "\n",
    "   To ease the calculation of all magnetic fields \n",
    "   To help you a script `run.sh` is located in this directory. Carefully read it to infer which option specifies the $\\delta \\mathbf H$ term.\n",
    "   \n",
    "   Since this example has 14 different setups, each with 51 energy points, it will take some time. Around 30 seconds for the first (includes self-energy calculation), and around 10 seconds for all subsequent setups. So be patient. :)\n",
    "- Secondly, read in all output into the workbook in a list."
   ]
  },
  {
   "cell_type": "code",
   "execution_count": 7,
   "metadata": {},
   "outputs": [
    {
     "ename": "IOError",
     "evalue": "No such file or directory",
     "output_type": "error",
     "traceback": [
      "\u001b[0;31m---------------------------------------------------------------------------\u001b[0m",
      "\u001b[0;31mIOError\u001b[0m                                   Traceback (most recent call last)",
      "\u001b[0;32m<ipython-input-7-e06b846b13bb>\u001b[0m in \u001b[0;36m<module>\u001b[0;34m()\u001b[0m\n\u001b[1;32m      2\u001b[0m \u001b[0mgs\u001b[0m \u001b[0;34m=\u001b[0m \u001b[0msisl\u001b[0m\u001b[0;34m.\u001b[0m\u001b[0mget_sile\u001b[0m\u001b[0;34m\u001b[0m\u001b[0m\n\u001b[1;32m      3\u001b[0m \u001b[0;31m# No magnetic field\u001b[0m\u001b[0;34m\u001b[0m\u001b[0;34m\u001b[0m\u001b[0m\n\u001b[0;32m----> 4\u001b[0;31m \u001b[0mtbt0\u001b[0m \u001b[0;34m=\u001b[0m \u001b[0mgs\u001b[0m\u001b[0;34m(\u001b[0m\u001b[0;34m'siesta.TBT.nc'\u001b[0m\u001b[0;34m)\u001b[0m\u001b[0;34m\u001b[0m\u001b[0m\n\u001b[0m\u001b[1;32m      5\u001b[0m \u001b[0;31m# All magnetic fields in increasing order\u001b[0m\u001b[0;34m\u001b[0m\u001b[0;34m\u001b[0m\u001b[0m\n\u001b[1;32m      6\u001b[0m \u001b[0mtbts\u001b[0m \u001b[0;34m=\u001b[0m \u001b[0;34m[\u001b[0m\u001b[0mgs\u001b[0m\u001b[0;34m(\u001b[0m\u001b[0;34m'M_{}/siesta.TBT.nc'\u001b[0m\u001b[0;34m.\u001b[0m\u001b[0mformat\u001b[0m\u001b[0;34m(\u001b[0m\u001b[0mrec_phi\u001b[0m\u001b[0;34m)\u001b[0m\u001b[0;34m)\u001b[0m \u001b[0;32mfor\u001b[0m \u001b[0mrec_phi\u001b[0m \u001b[0;32min\u001b[0m \u001b[0mrec_phis\u001b[0m\u001b[0;34m]\u001b[0m\u001b[0;34m\u001b[0m\u001b[0m\n",
      "\u001b[0;32m/opt/python/2.7.14/packages/sisl/0.8.5/gnu-7.2.0/lib/python2.7/site-packages/sisl-0.9.0.dev0-py2.7-linux-x86_64.egg/sisl/io/sile.pyc\u001b[0m in \u001b[0;36mget_sile\u001b[0;34m(file, *args, **kwargs)\u001b[0m\n\u001b[1;32m    270\u001b[0m     \u001b[0mcls\u001b[0m \u001b[0;34m=\u001b[0m \u001b[0mkwargs\u001b[0m\u001b[0;34m.\u001b[0m\u001b[0mpop\u001b[0m\u001b[0;34m(\u001b[0m\u001b[0;34m'cls'\u001b[0m\u001b[0;34m,\u001b[0m \u001b[0mNone\u001b[0m\u001b[0;34m)\u001b[0m\u001b[0;34m\u001b[0m\u001b[0m\n\u001b[1;32m    271\u001b[0m     \u001b[0msile\u001b[0m \u001b[0;34m=\u001b[0m \u001b[0mget_sile_class\u001b[0m\u001b[0;34m(\u001b[0m\u001b[0mfile\u001b[0m\u001b[0;34m,\u001b[0m \u001b[0;34m*\u001b[0m\u001b[0margs\u001b[0m\u001b[0;34m,\u001b[0m \u001b[0mcls\u001b[0m\u001b[0;34m=\u001b[0m\u001b[0mcls\u001b[0m\u001b[0;34m,\u001b[0m \u001b[0;34m**\u001b[0m\u001b[0mkwargs\u001b[0m\u001b[0;34m)\u001b[0m\u001b[0;34m\u001b[0m\u001b[0m\n\u001b[0;32m--> 272\u001b[0;31m     \u001b[0;32mreturn\u001b[0m \u001b[0msile\u001b[0m\u001b[0;34m(\u001b[0m\u001b[0mstr_spec\u001b[0m\u001b[0;34m(\u001b[0m\u001b[0mfile\u001b[0m\u001b[0;34m)\u001b[0m\u001b[0;34m[\u001b[0m\u001b[0;36m0\u001b[0m\u001b[0;34m]\u001b[0m\u001b[0;34m,\u001b[0m \u001b[0;34m*\u001b[0m\u001b[0margs\u001b[0m\u001b[0;34m,\u001b[0m \u001b[0;34m**\u001b[0m\u001b[0mkwargs\u001b[0m\u001b[0;34m)\u001b[0m\u001b[0;34m\u001b[0m\u001b[0m\n\u001b[0m\u001b[1;32m    273\u001b[0m \u001b[0;34m\u001b[0m\u001b[0m\n\u001b[1;32m    274\u001b[0m \u001b[0;34m\u001b[0m\u001b[0m\n",
      "\u001b[0;32m/opt/python/2.7.14/packages/sisl/0.8.5/gnu-7.2.0/lib/python2.7/site-packages/sisl-0.9.0.dev0-py2.7-linux-x86_64.egg/sisl/io/sile.pyc\u001b[0m in \u001b[0;36m__init__\u001b[0;34m(self, filename, mode, lvl, access, _open)\u001b[0m\n\u001b[1;32m    683\u001b[0m             \u001b[0m_import_netCDF4\u001b[0m\u001b[0;34m(\u001b[0m\u001b[0;34m)\u001b[0m\u001b[0;34m\u001b[0m\u001b[0m\n\u001b[1;32m    684\u001b[0m             self.__dict__['fh'] = _netCDF4.Dataset(self.file, self._mode,\n\u001b[0;32m--> 685\u001b[0;31m                                                    format='NETCDF4')\n\u001b[0m\u001b[1;32m    686\u001b[0m \u001b[0;34m\u001b[0m\u001b[0m\n\u001b[1;32m    687\u001b[0m         \u001b[0;31m# Must call setup-methods\u001b[0m\u001b[0;34m\u001b[0m\u001b[0;34m\u001b[0m\u001b[0m\n",
      "\u001b[0;32mnetCDF4/_netCDF4.pyx\u001b[0m in \u001b[0;36mnetCDF4._netCDF4.Dataset.__init__\u001b[0;34m()\u001b[0m\n",
      "\u001b[0;32mnetCDF4/_netCDF4.pyx\u001b[0m in \u001b[0;36mnetCDF4._netCDF4._ensure_nc_success\u001b[0;34m()\u001b[0m\n",
      "\u001b[0;31mIOError\u001b[0m: No such file or directory"
     ]
    }
   ],
   "source": [
    "# Create short-hand function\n",
    "gs = sisl.get_sile\n",
    "# No magnetic field\n",
    "tbt0 = gs('siesta.TBT.nc')\n",
    "# All magnetic fields in increasing order\n",
    "tbts = [gs('M_{}/siesta.TBT.nc'.format(rec_phi)) for rec_phi in rec_phis]"
   ]
  },
  {
   "cell_type": "markdown",
   "metadata": {},
   "source": [
    "- Plot the transmission function for all applied fields in the full energy range."
   ]
  },
  {
   "cell_type": "code",
   "execution_count": null,
   "metadata": {},
   "outputs": [],
   "source": [
    "# Do trick with easy plotting utility\n",
    "E = tbt0.E[:]\n",
    "Eplot = partial(plt.plot, E)\n",
    "\n",
    "for rec_phi, tbt in zip(rec_phis, tbts):\n",
    "    Eplot(tbt.transmission(), '--', label='{}'.format(rec_phi));\n",
    "Eplot(tbt0.transmission(), 'k');\n",
    "plt.xlim([E.min(), E.max()]); plt.ylim([0, None]);\n",
    "plt.xlabel('Energy [eV]'); plt.ylabel('Transmisson'); plt.legend(bbox_to_anchor=(1, 1), loc=2);"
   ]
  },
  {
   "cell_type": "markdown",
   "metadata": {},
   "source": [
    "- Make a contour plot of the transmission vs. $\\Phi$ and $E$"
   ]
  },
  {
   "cell_type": "code",
   "execution_count": null,
   "metadata": {},
   "outputs": [],
   "source": [
    "T = np.stack([tbt.transmission() for tbt in tbts])\n",
    "T[T < 1e-9] = 0 # small numbers are difficult to interpolate, so remove them\n",
    "plt.contourf(rec_phis, E, T.T, 20); plt.colorbar(label='Transmission');\n",
    "plt.ylabel('Energy [eV]'); plt.xlabel(r'$1/\\Phi$');"
   ]
  },
  {
   "cell_type": "markdown",
   "metadata": {},
   "source": [
    "- **TIME** Choose a given magnetic field and create a different set of constriction widths and plot $T(E, \\Phi)$ for different widths, fix $\\Phi$ at a fairly large value (copy codes in `In [4-7]` and adapt), you may decide the Gaussian profile and change if you want."
   ]
  },
  {
   "cell_type": "code",
   "execution_count": null,
   "metadata": {},
   "outputs": [],
   "source": []
  },
  {
   "cell_type": "markdown",
   "metadata": {},
   "source": [
    "## Learned lessons\n",
    "\n",
    "- Advanced construction of geometries by removing subsets of atoms (both for Hamiltonian and geometries)\n",
    "- Creation of $\\delta\\mathbf H$ terms. Note that *exactly* the same method is used for the $\\delta\\boldsymbol\\Sigma$ terms, the only difference is how it is specified in the fdf-file (`TBT.dH` vs. `TBT.dSE`)\n",
    "- Supplying fdf-flags to TBtrans on the command line to override flags in the input files.\n",
    "- Inform TBtrans to store the self-energies on disk to re-use them in later calculations.\n",
    "- Inform TBtrans to make all output into a sub-folder (and if it does not exist, create it)\n",
    "- Adding complex valued Hamiltonians, we have not uncovered everything as the $\\delta$ files may contain $k$-resolved and/or $E$-resolved $\\delta$-terms for full control, but the principles are the same. Search the documentation for `deltancSileTBtrans`."
   ]
  },
  {
   "cell_type": "code",
   "execution_count": null,
   "metadata": {},
   "outputs": [],
   "source": []
  }
 ],
 "metadata": {
  "kernelspec": {
   "display_name": "Python 2",
   "language": "python",
   "name": "python2"
  },
  "language_info": {
   "codemirror_mode": {
    "name": "ipython",
    "version": 2
   },
   "file_extension": ".py",
   "mimetype": "text/x-python",
   "name": "python",
   "nbconvert_exporter": "python",
   "pygments_lexer": "ipython2",
   "version": "2.7.14"
  }
 },
 "nbformat": 4,
 "nbformat_minor": 2
}
