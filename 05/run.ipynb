{
 "cells": [
  {
   "cell_type": "code",
   "execution_count": null,
   "metadata": {},
   "outputs": [],
   "source": [
    "from __future__ import print_function\n",
    "import sisl\n",
    "import numpy as np\n",
    "import matplotlib.pyplot as plt\n",
    "%matplotlib inline"
   ]
  },
  {
   "cell_type": "markdown",
   "metadata": {},
   "source": [
    "In this example you will learn how to make use of the periodicity of the electrodes.\n",
    "\n",
    "As seen in [example 04](../04/run.ipynb) the transmission calculation takes a considerable amount of time. In this example we will redo the *same* calculation, but speed it up (no approximations made).\n",
    "\n",
    "A large computational effort is made on calculating the self-energies which basically is inverting, multiplying and adding matrices, roughly 10-20 times per $\\mathbf k$-point, per energy point, per electrode.  \n",
    "For some systems this is far more demanding than calculating the Green function for the system.  \n",
    "In systems where there is periodicity along the transverse semi-infinite direction (not along the transport direction) one can utilize Bloch's theorem to reduce the computational cost of calculating the self-energy. In ***ANY*** calculation if you have periodicity, please ***USE*** it. \n",
    "\n",
    "In this example you should scour the tbtrans manual on how to enable Bloch's \n",
    "theorem, and once enabled it should be roughly 3 - 4 times as fast, something that is non-negligeble for large systems."
   ]
  },
  {
   "cell_type": "code",
   "execution_count": null,
   "metadata": {},
   "outputs": [],
   "source": [
    "graphene = sisl.geom.graphene(orthogonal=True)"
   ]
  },
  {
   "cell_type": "markdown",
   "metadata": {},
   "source": [
    "Note the below lines are differing from the same lines in [example 04](../04/run.ipynb), i.e. we save the electrode electronic structure *before* extending it 25 times."
   ]
  },
  {
   "cell_type": "code",
   "execution_count": null,
   "metadata": {},
   "outputs": [],
   "source": [
    "H = sisl.Hamiltonian(graphene)\n",
    "H.construct(([0.1, 1.43], [0., -2.7]))\n",
    "H.write('ELEC.nc')\n",
    "elec = graphene.repeat(25, axis=0)"
   ]
  },
  {
   "cell_type": "code",
   "execution_count": null,
   "metadata": {},
   "outputs": [],
   "source": [
    "device = elec.tile(15, axis=1)\n",
    "device = device.remove(device.close(device.center(which='cell'), R=10.))\n",
    "\n",
    "dangling = [ia for ia in device.close(device.center(which='cell'), R=14.)\n",
    "                if len(device.close(ia, R=1.43)) < 3]\n",
    "device = device.remove(dangling)\n",
    "edge = []\n",
    "for ia in device.close(device.center(which='cell'), R=14.):\n",
    "    if len(device.close(ia, R=1.43)) < 4:\n",
    "        edge.append(ia + 1) # + 1 to get fortran indices\n",
    "\n",
    "# Pretty-print the list of atoms\n",
    "print(sisl.utils.list2str(edge))\n",
    "\n",
    "Hdev = sisl.Hamiltonian(device)\n",
    "Hdev.construct(([0.1, 1.43], [0, -2.7]))\n",
    "Hdev.geom.write('device.xyz')\n",
    "Hdev.write('DEVICE.nc')"
   ]
  },
  {
   "cell_type": "markdown",
   "metadata": {},
   "source": [
    "# Exercises\n",
    "\n",
    "Instead of analysing the same thing as in [04](../04/run.ipynb) you should perform the following actions to explore the available data-analysis capabilities of TBtrans.\n",
    "\n",
    "*HINT* please copy as much as you like from example 04 to simplify the following tasks.\n",
    "\n",
    "1. Read in the resulting file into a variable called `tbt`.\n",
    "2. In the following we will concentrate on *only* looking at $\\Gamma$-point related quantities. I.e. all quantities should only be plotted for this $\\mathbf k$-point.  \n",
    "   To extract information for one or more subset of points you should look into the function\n",
    "       \n",
    "       help(tbt.kindex)\n",
    "   \n",
    "   which may be used to find a resulting $\\mathbf k$-point index in the result file.\n",
    "   \n",
    "3. Plot the transmission ($\\Gamma$-point only). To extract a subset $\\mathbf k$-point you should read the documentation for the functions (*hint: `kavg` is the keyword you are looking for*).\n",
    "   - Full transmission\n",
    "   - Bulk transmission\n",
    "4. Plot the DOS with normalization according to the number of atoms ($\\Gamma$ only)  \n",
    "   You may decide which atoms you examine.\n",
    "   - The Green function DOS\n",
    "   - The spectral DOS\n",
    "   - The bulk DOS"
   ]
  },
  {
   "cell_type": "markdown",
   "metadata": {},
   "source": [
    "### Transmission"
   ]
  },
  {
   "cell_type": "code",
   "execution_count": null,
   "metadata": {},
   "outputs": [],
   "source": []
  },
  {
   "cell_type": "code",
   "execution_count": null,
   "metadata": {},
   "outputs": [],
   "source": []
  },
  {
   "cell_type": "markdown",
   "metadata": {},
   "source": [
    "### Density of states"
   ]
  },
  {
   "cell_type": "code",
   "execution_count": null,
   "metadata": {},
   "outputs": [],
   "source": []
  },
  {
   "cell_type": "code",
   "execution_count": null,
   "metadata": {},
   "outputs": [],
   "source": []
  }
 ],
 "metadata": {
  "kernelspec": {
   "display_name": "Python 2",
   "language": "python",
   "name": "python2"
  },
  "language_info": {
   "codemirror_mode": {
    "name": "ipython",
    "version": 2
   },
   "file_extension": ".py",
   "mimetype": "text/x-python",
   "name": "python",
   "nbconvert_exporter": "python",
   "pygments_lexer": "ipython2",
   "version": "2.7.14"
  }
 },
 "nbformat": 4,
 "nbformat_minor": 2
}
