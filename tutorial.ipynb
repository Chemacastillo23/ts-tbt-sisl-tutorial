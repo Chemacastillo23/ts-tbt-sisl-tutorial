{
 "cells": [
  {
   "cell_type": "markdown",
   "metadata": {
    "collapsed": true
   },
   "source": [
    "# sisl + TBtrans + TranSiesta\n",
    "\n",
    "This tutorial will carry you through the details of performing advanced tight-binding calculations and a better understanding of the TranSiesta scheme required for performing full DFT-NEGF calculations.\n",
    "\n",
    "If you are mainly interested in TranSiesta then please pay attention on how to setup electrodes in the tight-binding cases. By understanding the requirements for a successfull tight-binding calculation your are much better suited to perform accurate full DFT+NEGF calculations."
   ]
  },
  {
   "cell_type": "markdown",
   "metadata": {},
   "source": [
    "The tutorials encourages you to _explore_ the possibilities of extracting quantities using `sisl`. You are thus encouraged to read about relevanent functions and methods to explore intrinsic capabilities.\n",
    "\n",
    "One can always get help regarding any class, function or method by invoking:\n",
    "\n",
    "    help(<>)\n",
    "    \n",
    "For instance to get help regarding a specific function in a class, you may invoke either of the following 2 lines of code:"
   ]
  },
  {
   "cell_type": "code",
   "execution_count": null,
   "metadata": {},
   "outputs": [],
   "source": [
    "import sisl\n",
    "%pdoc sisl.Geometry.tile\n",
    "help(sisl.Geometry.tile)"
   ]
  },
  {
   "cell_type": "markdown",
   "metadata": {},
   "source": [
    "If in doubt of arguments to routines it may help you greatly to remember the above functionality.\n",
    "Alternatively you can find the `sisl` API documentation [here](http://zerothi.github.io/sisl/docs/latest/api.html)."
   ]
  },
  {
   "cell_type": "markdown",
   "metadata": {},
   "source": [
    "## Table of contents"
   ]
  },
  {
   "cell_type": "markdown",
   "metadata": {},
   "source": [
    "The tutorials may be found in the sub-folders (or by pressing these links):\n",
    "\n",
    "- [Example 1](01/run.ipynb)  \n",
    "  A basic example of how to create electronic structures in `sisl`.  \n",
    "  The graphene electronic structure is recreated from a simple tight-binding calculation.\n",
    "  In this example you will get your first glance at `sisl` code and how to utilize it for simple things.\n",
    "  \n",
    "- [Example 2](02/run.ipynb)  \n",
    "  Creation of your first tight-binding Hamiltonian for TBtrans.\n",
    "  This, again, creates a graphene device with 2 electrodes and a small scattering region.\n",
    "  After having created the electronic structure to be fed into TBtrans you will run TBtrans. Then returning to the tutorial script you will run some data-analysis using `sisl` again.\n",
    "\n",
    "- [Example 3](03/run.ipynb)  \n",
    "  Create transport in a skewed lattice. This exemplifies the generality of TBtrans, but also TranSiesta for cases where skewed transport directions reduces the computational effort.\n",
    "  \n",
    "- [Example 4](04/run.ipynb)  \n",
    "  Introduction to the `sisl.io` module which interfaces the build-in file types. In this case we concentrate on the TBtrans output file `*.TBT.nc` where `sisl` is the primary tool to perform data-analysis. Extraction of transmission, DOS, spectral DOS and the aforementioned quantities on individiual subsets of atoms.\n",
    "  \n",
    "- [Example 5](05/run.ipynb)  \n",
    "  Same system as in [04](04/run.ipynb). This example shows you the importance of utilising the periodicity in the electrodes. The exercises elaborates on [04](04/run.ipynb) and will teach you to extract transmission and density of states quantities on a *per $\\mathbf k$-point* case, thus enabling investigations on a Brillouin zone level.\n",
    "\n",
    "\n",
    "- [Example 6](06/run.ipynb)  \n",
    "  The first $N>2$-electrode example with a cross-bar graphene nano-ribbon system. You will learn to extract data from a calculation with multiple electrodes and also explore details of symmetry for $N>2$ electrode systems.\n",
    "  \n",
    "\n",
    "- [Example 7](07/run.ipynb)  \n",
    "  "
   ]
  },
  {
   "cell_type": "code",
   "execution_count": null,
   "metadata": {},
   "outputs": [],
   "source": []
  }
 ],
 "metadata": {
  "kernelspec": {
   "display_name": "Python 2",
   "language": "python",
   "name": "python2"
  },
  "language_info": {
   "codemirror_mode": {
    "name": "ipython",
    "version": 2
   },
   "file_extension": ".py",
   "mimetype": "text/x-python",
   "name": "python",
   "nbconvert_exporter": "python",
   "pygments_lexer": "ipython2",
   "version": "2.7.14"
  }
 },
 "nbformat": 4,
 "nbformat_minor": 2
}
