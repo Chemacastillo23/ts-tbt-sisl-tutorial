{
 "cells": [
  {
   "cell_type": "code",
   "execution_count": 2,
   "metadata": {},
   "outputs": [],
   "source": [
    "import sisl"
   ]
  },
  {
   "cell_type": "markdown",
   "metadata": {
    "collapsed": true
   },
   "source": [
    "# sisl + TBtrans + TranSiesta\n",
    "\n",
    "Throughout this tutorial you will work with the Jupyter notebook scheme.\n",
    "\n",
    "It is *Mathematica* like and will allow one to more quickly explore different things. A few rules about the notebook format is:\n",
    "\n",
    "- Everything in the notebook is parsed as Python code. One can do *any* Python code in here. So feel free to explore.\n",
    "- If things crash, then select (at the top) `Kernel -> Restart & Run All` to restart the kernel and then rerun all cells.\n",
    "- Press `h` for a quick help menu. These below commands are useful:\n",
    "  - `Esc` escape from editing the current cell\n",
    "  - `y` changes the current cell to a code-field (Python code)\n",
    "  - `m` changes the current cell to a text-field (Markdown with $\\LaTeX$ support)\n",
    "\n",
    "The tutorials encourages you to _explore_ the possibilities of extracting quantities using `sisl`. You are thus encouraged to read about relevanent functions and methods to explore intrinsic capabilities.\n",
    "\n",
    "One can always get help regarding any class, function or method by invoking:\n",
    "\n",
    "    help(<>)\n",
    "    \n",
    "For instance to get help regarding a specific function in a class, you may invoke either of the following 2 lines of code, whichever you prefer (the first will divide the current window with this and a help window, while the other will print out):"
   ]
  },
  {
   "cell_type": "code",
   "execution_count": 4,
   "metadata": {},
   "outputs": [
    {
     "name": "stdout",
     "output_type": "stream",
     "text": [
      "Help on method tile in module sisl.geometry:\n",
      "\n",
      "tile(self, reps, axis) unbound sisl.geometry.Geometry method\n",
      "    Tile the geometry to create a bigger one\n",
      "    \n",
      "    The atomic indices are retained for the base structure.\n",
      "    \n",
      "    Parameters\n",
      "    ----------\n",
      "    reps  : int\n",
      "       number of tiles (repetitions)\n",
      "    axis  : int\n",
      "       direction of tiling, 0, 1, 2 according to the cell-direction\n",
      "    \n",
      "    Examples\n",
      "    --------\n",
      "    >>> geom = Geometry([[0, 0, 0], [0.5, 0, 0]], sc=1.)\n",
      "    >>> g = geom.tile(2,axis=0)\n",
      "    >>> print(g.xyz)\n",
      "    [[ 0.   0.   0. ]\n",
      "     [ 0.5  0.   0. ]\n",
      "     [ 1.   0.   0. ]\n",
      "     [ 1.5  0.   0. ]]\n",
      "    >>> g = geom.tile(2,0).tile(2,axis=1)\n",
      "    >>> print(g.xyz)\n",
      "    [[ 0.   0.   0. ]\n",
      "     [ 0.5  0.   0. ]\n",
      "     [ 1.   0.   0. ]\n",
      "     [ 1.5  0.   0. ]\n",
      "     [ 0.   1.   0. ]\n",
      "     [ 0.5  1.   0. ]\n",
      "     [ 1.   1.   0. ]\n",
      "     [ 1.5  1.   0. ]]\n",
      "    \n",
      "    See Also\n",
      "    --------\n",
      "    repeat : equivalent but different ordering of final structure\n",
      "\n"
     ]
    }
   ],
   "source": [
    "%pdoc sisl.Geometry.tile\n",
    "help(sisl.Geometry.tile)"
   ]
  },
  {
   "cell_type": "markdown",
   "metadata": {},
   "source": [
    "If in doubt of arguments to routines it may help you greatly to remember the above functionality.\n",
    "Alternatively you can find the `sisl` API documentation [here](http://zerothi.github.io/sisl/docs/latest/api.html)."
   ]
  },
  {
   "cell_type": "markdown",
   "metadata": {},
   "source": [
    "# Tutorials\n",
    "\n",
    "This tutorial is made up in consecutive examples such that one is first, introduced to the transport methodology using TBtrans. So called “tight-binding” Hamiltonians are excellent examples to understand the methodology. They are extremely simple and may be used to shed light on more complicated issues.  \n",
    "Subsequent to the understanding of sisl and TBtrans, the tutorial will present examples of self-consistent bias calculations using TranSiesta. These are merely extensions of the same simplistic modelling and we try and retrieve the same results as using sisl and TBtrans. If your interest lie only with TranSIESTA, do not be tempted to skip the tight-binding exercises. By understanding the underlying methodology for simple transport problems it becomes much easier to extrapolate to more complex/larger systems."
   ]
  },
  {
   "cell_type": "markdown",
   "metadata": {},
   "source": [
    "All tutorials are hosted online [here (version 2017)](https://github.com/zerothi/ts-tbt-sisl-tutorial/tree/2017)."
   ]
  },
  {
   "cell_type": "markdown",
   "metadata": {},
   "source": [
    "## Table of contents"
   ]
  },
  {
   "cell_type": "markdown",
   "metadata": {},
   "source": [
    "The tutorials may be found in the sub-folders (or by pressing these links):\n",
    "\n",
    "- [Example 1](01/run.ipynb)  \n",
    "  A basic example of how to create electronic structures in `sisl`.  \n",
    "  The graphene electronic structure is recreated from a simple tight-binding calculation.\n",
    "  In this example you will get your first glance at `sisl` code and how to utilize it for simple things.\n",
    "  \n",
    "- [Example 2](02/run.ipynb)  \n",
    "  Creation of your first tight-binding Hamiltonian for TBtrans.\n",
    "  This, again, creates a graphene device with 2 electrodes and a small scattering region.\n",
    "  After having created the electronic structure to be fed into TBtrans you will run TBtrans. Then returning to the tutorial script you will run some data-analysis using `sisl` again.\n",
    "\n",
    "- [Example 3](03/run.ipynb)  \n",
    "  Create transport in a skewed lattice. This exemplifies the generality of TBtrans, but also TranSiesta for cases where skewed transport directions reduces the computational effort.\n",
    "  \n",
    "  *Fast example*\n",
    "  \n",
    "- [Example 4](04/run.ipynb)  \n",
    "  Introduction to the `sisl.io` module which interfaces the build-in file types. In this case we concentrate on the TBtrans output file `*.TBT.nc` where `sisl` is the primary tool to perform data-analysis. Extraction of transmission, DOS, spectral DOS and the aforementioned quantities on individiual subsets of atoms.\n",
    "  \n",
    "- [Example 5](05/run.ipynb)  \n",
    "  Same system as in [04](04/run.ipynb). This example shows you the importance of utilising the periodicity in the electrodes. The exercises elaborates on [04](04/run.ipynb) and will teach you to extract transmission and density of states quantities on a *per $\\mathbf k$-point* case, thus enabling investigations on a Brillouin zone level.\n",
    "\n",
    "\n",
    "- [Example 6](06/run.ipynb)  \n",
    "  The first $N>2$-electrode example with a cross-bar graphene nano-ribbon system. You will learn to extract data from a calculation with multiple electrodes and also explore details of symmetry for $N>2$ electrode systems.\n",
    "  \n",
    "\n",
    "- [Example 7](07/run.ipynb)  \n",
    "  Advanced exercise of *manipulation* of a predefined Hamiltonian. This example will cover how to add a magnetic field to a tight-binding Hamiltonian. This may be accomblished by using the $\\delta\\mathbf H$/$\\delta\\boldsymbol\\Sigma$ method.\n",
    "  \n",
    "  \n",
    "- [Example 8](08/run.ipynb)  \n",
    "  The first TranSiesta example. Simple graphene TranSiesta calculation where you will learn about the importance of principle cell connections *only*.\n",
    "  \n",
    "\n",
    "- [Example 9](09/run.ipynb)  \n",
    "  The first TranSiesta example with applied bias'. You will learn to perform effective bias calculations and also to interpolate Hamiltonians for accurate $I(V)$ curves with a minimal/few self-consistently calculated Hamiltonians.\n",
    "  \n",
    "\n",
    "- [Example 10](10/run.ipynb)  \n",
    "  Learn how to create your first input for TranSiesta, from scratch.  \n",
    "  Create a 1D Carbon chain model with proper electrodes, a minimal scattering region and inputs for both TranSiesta and TBtrans.\n",
    "  \n",
    "  \n",
    "- [Example 11](11/run.ipynb)  \n",
    "  A multi-electrode calculation with TranSiesta. 2 overlying Carbon chains in a cross-bar configuration. t"
   ]
  },
  {
   "cell_type": "code",
   "execution_count": null,
   "metadata": {},
   "outputs": [],
   "source": []
  }
 ],
 "metadata": {
  "kernelspec": {
   "display_name": "Python 2",
   "language": "python",
   "name": "python2"
  },
  "language_info": {
   "codemirror_mode": {
    "name": "ipython",
    "version": 2
   },
   "file_extension": ".py",
   "mimetype": "text/x-python",
   "name": "python",
   "nbconvert_exporter": "python",
   "pygments_lexer": "ipython2",
   "version": "2.7.14"
  }
 },
 "nbformat": 4,
 "nbformat_minor": 2
}
